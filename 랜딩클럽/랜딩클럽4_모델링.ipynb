{
  "nbformat": 4,
  "nbformat_minor": 0,
  "metadata": {
    "colab": {
      "provenance": [],
      "authorship_tag": "ABX9TyP96tTvkUiYoyokDr/5du+J",
      "include_colab_link": true
    },
    "kernelspec": {
      "name": "python3",
      "display_name": "Python 3"
    },
    "language_info": {
      "name": "python"
    }
  },
  "cells": [
    {
      "cell_type": "markdown",
      "metadata": {
        "id": "view-in-github",
        "colab_type": "text"
      },
      "source": [
        "<a href=\"https://colab.research.google.com/github/cowsilver57/Project/blob/main/%EB%9E%9C%EB%94%A9%ED%81%B4%EB%9F%BD4_%EB%AA%A8%EB%8D%B8%EB%A7%81.ipynb\" target=\"_parent\"><img src=\"https://colab.research.google.com/assets/colab-badge.svg\" alt=\"Open In Colab\"/></a>"
      ]
    },
    {
      "cell_type": "code",
      "execution_count": null,
      "metadata": {
        "id": "cdOnF_pvXg1j"
      },
      "outputs": [],
      "source": [
        "import pandas as pd\n",
        "data = pd.read_csv('/content/preprocessed_data.csv')"
      ]
    },
    {
      "cell_type": "code",
      "source": [
        "data['term'] = data['term'].apply(lambda x: int(x.split()[0]) if pd.notnull(x) else x)"
      ],
      "metadata": {
        "id": "0DCecVt2h47b"
      },
      "execution_count": null,
      "outputs": []
    },
    {
      "cell_type": "markdown",
      "source": [
        "# 4. 모델링 전 전처리"
      ],
      "metadata": {
        "id": "39Wbl9_hdKUJ"
      }
    },
    {
      "cell_type": "markdown",
      "source": [
        "## 4-1. 오버샘플링"
      ],
      "metadata": {
        "id": "utKE3aS-dNry"
      }
    },
    {
      "cell_type": "code",
      "source": [
        "from sklearn.model_selection import train_test_split\n",
        "from sklearn.utils import resample\n",
        "\n",
        "\n",
        "# 클래스 별로 샘플 수 계산\n",
        "\n",
        "#0 = 체납\n",
        "minority_class = data[data['loan_status'] == 0]\n",
        "#1 = 완납\n",
        "majority_class = data[data['loan_status'] == 1]\n",
        "\n",
        "print(\"Minority class samples:\", len(minority_class))\n",
        "print(\"Majority class samples:\", len(majority_class))\n",
        "\n",
        "# 적절한 비율로 오버샘플링 수행\n",
        "minority_class_oversampled = resample(minority_class,\n",
        "                                      replace=True,\n",
        "                                      n_samples=len(majority_class),\n",
        "                                      random_state=42)\n",
        "\n",
        "# 오버샘플링된 데이터를 기존 데이터와 합치기\n",
        "data_oversampled = pd.concat([majority_class, minority_class_oversampled])\n",
        "\n",
        "print(data_oversampled.shape)"
      ],
      "metadata": {
        "colab": {
          "base_uri": "https://localhost:8080/"
        },
        "id": "Hu3gZdTgdNAW",
        "outputId": "e6301b7b-038a-4e3d-d90a-73a2126ef506"
      },
      "execution_count": null,
      "outputs": [
        {
          "output_type": "stream",
          "name": "stdout",
          "text": [
            "Minority class samples: 77352\n",
            "Majority class samples: 316629\n",
            "(633258, 29)\n"
          ]
        }
      ]
    },
    {
      "cell_type": "code",
      "source": [
        "#0 = 체납\n",
        "minority_class = data_oversampled[data_oversampled['loan_status'] == 0]\n",
        "#1 = 완납\n",
        "majority_class = data_oversampled[data_oversampled['loan_status'] == 1]\n",
        "\n",
        "print(\"Minority class samples:\", len(minority_class))\n",
        "print(\"Majority class samples:\", len(majority_class))"
      ],
      "metadata": {
        "colab": {
          "base_uri": "https://localhost:8080/"
        },
        "id": "Jzfhfd6idjlp",
        "outputId": "1f263dd1-4613-4fde-a15b-3fab087c3f15"
      },
      "execution_count": null,
      "outputs": [
        {
          "output_type": "stream",
          "name": "stdout",
          "text": [
            "Minority class samples: 316629\n",
            "Majority class samples: 316629\n"
          ]
        }
      ]
    },
    {
      "cell_type": "code",
      "source": [
        "import matplotlib.pyplot as plt\n",
        "import seaborn as sns\n",
        "\n",
        "X1 = minority_class['revol_util'][:int(len(minority_class)*0.001)]\n",
        "X2 = minority_class['dti'][:int(len(minority_class)*0.001)]\n",
        "\n",
        "X3 = majority_class['revol_util'][:int(len(majority_class)*0.001)]\n",
        "X4 = majority_class['dti'][:int(len(majority_class)*0.001)]\n",
        "\n",
        "major2 = data_oversampled.loc[data_oversampled['loan_status']==0]\n",
        "minor2 = data_oversampled.loc[data_oversampled['loan_status']==1]\n",
        "\n",
        "XX1 = minor2['revol_util'][:int(len(minor2)*0.001)]\n",
        "XX2 = minor2['dti'][:int(len(minor2)*0.001)]\n",
        "\n",
        "XX3 = major2['revol_util'][:int(len(major2)*0.001)]\n",
        "XX4 = major2['dti'][:int(len(major2)*0.001)]\n",
        "\n",
        "# print(len(X1), len(X2), len(X3), len(X4))\n",
        "# print(len(XX1), len(XX2), len(XX3), len(XX4))\n",
        "\n",
        "fig, axes = plt.subplots(1, 2, figsize=(10, 5))\n",
        "axes[0].scatter(X1, X2, color='tab:blue', label='Charged Off') #체납\n",
        "axes[0].scatter(X3, X4, color='tab:orange', label='Fully Paid') #완납\n",
        "\n",
        "axes[1].scatter(XX1, XX2, color='tab:blue', label='Charged Off') #체납\n",
        "axes[1].scatter(XX3, XX4, color='tab:orange', label='Fully Paid') #완납\n",
        "\n",
        "axes[0].set_title('Before Resampling')\n",
        "axes[0].legend()\n",
        "axes[1].set_title('After Resampling')\n",
        "axes[1].legend()"
      ],
      "metadata": {
        "colab": {
          "base_uri": "https://localhost:8080/",
          "height": 445
        },
        "id": "AFq2h0d_dkq5",
        "outputId": "fd8c005a-b7d1-4281-ed36-7b169c4c87bd"
      },
      "execution_count": null,
      "outputs": [
        {
          "output_type": "execute_result",
          "data": {
            "text/plain": [
              "<matplotlib.legend.Legend at 0x785d19d4b400>"
            ]
          },
          "metadata": {},
          "execution_count": 32
        },
        {
          "output_type": "display_data",
          "data": {
            "text/plain": [
              "<Figure size 1000x500 with 2 Axes>"
            ],
            "image/png": "[encoded data removed]"
          },
          "metadata": {}
        }
      ]
    },
    {
      "cell_type": "markdown",
      "source": [
        "## 4-2. 수치형 변수 스케일링"
      ],
      "metadata": {
        "id": "uhbrVzMDdu0U"
      }
    },
    {
      "cell_type": "markdown",
      "source": [
        "데이터 분리"
      ],
      "metadata": {
        "id": "IT7oFELlgg6q"
      }
    },
    {
      "cell_type": "code",
      "source": [
        "COL_NUM = ['loan_amnt', 'int_rate', 'installment', 'annual_inc', 'dti', 'open_acc', 'pub_rec', 'revol_bal', 'revol_util', 'total_acc', 'pub_rec_bankruptcies']\n",
        "COL_CAT = ['term', 'sub_grade', 'home_ownership', 'verification_status', 'address_0', 'address_1', 'address_2', 'address_3', 'address_4', 'address_5',\n",
        "           'address_6', 'address_7', 'address_8', 'address_9', 'app_type_DIRECT_PAY', 'app_type_INDIVIDUAL', 'app_type_JOINT']"
      ],
      "metadata": {
        "id": "c0srDRkUggjq"
      },
      "execution_count": null,
      "outputs": []
    },
    {
      "cell_type": "code",
      "source": [
        "test = data_oversampled.drop('loan_status', axis=1)\n",
        "size = int(len(test) * 0.8)\n",
        "\n",
        "X_train = test.iloc[:size]\n",
        "X_test = test.iloc[size:]\n",
        "\n",
        "y_train = data_oversampled['loan_status'].iloc[:size]\n",
        "y_test = data_oversampled['loan_status'].iloc[size:]"
      ],
      "metadata": {
        "id": "e81_Uteids-T"
      },
      "execution_count": null,
      "outputs": []
    },
    {
      "cell_type": "markdown",
      "source": [
        "수치형 변수 스케일링"
      ],
      "metadata": {
        "id": "1JdkC9Ulglva"
      }
    },
    {
      "cell_type": "code",
      "source": [
        "from sklearn.model_selection import train_test_split\n",
        "X_tr, X_val, y_tr, y_val = train_test_split(X_train[COL_NUM+COL_CAT],\n",
        "\t\t\t\t\t\t\t                         y_train.values.ravel(),\n",
        "\t\t\t\t\t\t\t\t                       test_size=0.3,\n",
        "\t\t\t\t\t\t\t                         stratify=y_train.values.ravel())"
      ],
      "metadata": {
        "id": "RHXNyQgegj3V"
      },
      "execution_count": null,
      "outputs": []
    },
    {
      "cell_type": "code",
      "source": [
        "from sklearn.preprocessing import StandardScaler\n",
        "scaler = StandardScaler()\n",
        "scaler.fit(X_tr[COL_NUM])\n",
        "\n",
        "X_tr[COL_NUM] = scaler.transform(X_tr[COL_NUM])\n",
        "X_val[COL_NUM] = scaler.transform(X_val[COL_NUM])\n",
        "X_test[COL_NUM] = scaler.transform(X_test[COL_NUM])"
      ],
      "metadata": {
        "colab": {
          "base_uri": "https://localhost:8080/"
        },
        "id": "L6RXdzeIgouG",
        "outputId": "597e6c44-77c2-4abf-ef6a-a4b90899dd8c"
      },
      "execution_count": null,
      "outputs": [
        {
          "output_type": "stream",
          "name": "stderr",
          "text": [
            "<ipython-input-36-894467aa0314>:7: SettingWithCopyWarning: \n",
            "A value is trying to be set on a copy of a slice from a DataFrame.\n",
            "Try using .loc[row_indexer,col_indexer] = value instead\n",
            "\n",
            "See the caveats in the documentation: https://pandas.pydata.org/pandas-docs/stable/user_guide/indexing.html#returning-a-view-versus-a-copy\n",
            "  X_test[COL_NUM] = scaler.transform(X_test[COL_NUM])\n"
          ]
        }
      ]
    },
    {
      "cell_type": "code",
      "source": [
        "X_tr.head()"
      ],
      "metadata": {
        "colab": {
          "base_uri": "https://localhost:8080/",
          "height": 255
        },
        "id": "48sd-ANKgqK3",
        "outputId": "b7ee6f7b-1a45-4c3b-cfd4-27fd430c300f"
      },
      "execution_count": null,
      "outputs": [
        {
          "output_type": "execute_result",
          "data": {
            "text/plain": [
              "        loan_amnt  int_rate  installment  annual_inc       dti  open_acc  \\\n",
              "188867  -0.276866 -0.254098    -0.126411   -0.638064 -1.456194 -0.850199   \n",
              "253487  -0.754361  0.033797    -0.646068   -0.217014 -0.149897 -0.264257   \n",
              "308617  -0.933421 -0.407935    -0.877645   -0.831044 -0.398542 -0.654885   \n",
              "288156  -1.040858 -1.265027    -1.039136   -0.392452  0.325561 -0.459571   \n",
              "190936  -0.993108 -1.372713    -0.994055   -0.430346 -0.833975 -0.850199   \n",
              "\n",
              "         pub_rec  revol_bal  revol_util  total_acc  ...  address_3  address_4  \\\n",
              "188867 -0.353871  -0.853337   -1.191083  -1.122951  ...          0          0   \n",
              "253487 -0.353871  -0.596999   -0.943871   0.483060  ...          0          0   \n",
              "308617  1.595658  -0.679332   -0.704900  -1.292005  ...          0          0   \n",
              "288156 -0.353871  -0.534992   -0.630736  -0.784844  ...          0          0   \n",
              "190936 -0.353871  -0.006935    0.176823  -0.446736  ...          0          0   \n",
              "\n",
              "        address_5  address_6  address_7  address_8  address_9  \\\n",
              "188867          0          0          0          0          0   \n",
              "253487          0          0          0          0          0   \n",
              "308617          0          0          0          0          0   \n",
              "288156          0          0          1          0          0   \n",
              "190936          0          0          0          0          0   \n",
              "\n",
              "        app_type_DIRECT_PAY  app_type_INDIVIDUAL  app_type_JOINT  \n",
              "188867                    0                    1               0  \n",
              "253487                    0                    1               0  \n",
              "308617                    0                    1               0  \n",
              "288156                    0                    1               0  \n",
              "190936                    0                    1               0  \n",
              "\n",
              "[5 rows x 28 columns]"
            ],
            "text/html": [
              "\n",
              "  <div id=\"df-972b0277-35df-41fc-936a-3788bccc47d5\" class=\"colab-df-container\">\n",
              "    <div>\n",
              "<style scoped>\n",
              "    .dataframe tbody tr th:only-of-type {\n",
              "        vertical-align: middle;\n",
              "    }\n",
              "\n",
              "    .dataframe tbody tr th {\n",
              "        vertical-align: top;\n",
              "    }\n",
              "\n",
              "    .dataframe thead th {\n",
              "        text-align: right;\n",
              "    }\n",
              "</style>\n",
              "<table border=\"1\" class=\"dataframe\">\n",
              "  <thead>\n",
              "    <tr style=\"text-align: right;\">\n",
              "      <th></th>\n",
              "      <th>loan_amnt</th>\n",
              "      <th>int_rate</th>\n",
              "      <th>installment</th>\n",
              "      <th>annual_inc</th>\n",
              "      <th>dti</th>\n",
              "      <th>open_acc</th>\n",
              "      <th>pub_rec</th>\n",
              "      <th>revol_bal</th>\n",
              "      <th>revol_util</th>\n",
              "      <th>total_acc</th>\n",
              "      <th>...</th>\n",
              "      <th>address_3</th>\n",
              "      <th>address_4</th>\n",
              "      <th>address_5</th>\n",
              "      <th>address_6</th>\n",
              "      <th>address_7</th>\n",
              "      <th>address_8</th>\n",
              "      <th>address_9</th>\n",
              "      <th>app_type_DIRECT_PAY</th>\n",
              "      <th>app_type_INDIVIDUAL</th>\n",
              "      <th>app_type_JOINT</th>\n",
              "    </tr>\n",
              "  </thead>\n",
              "  <tbody>\n",
              "    <tr>\n",
              "      <th>188867</th>\n",
              "      <td>-0.276866</td>\n",
              "      <td>-0.254098</td>\n",
              "      <td>-0.126411</td>\n",
              "      <td>-0.638064</td>\n",
              "      <td>-1.456194</td>\n",
              "      <td>-0.850199</td>\n",
              "      <td>-0.353871</td>\n",
              "      <td>-0.853337</td>\n",
              "      <td>-1.191083</td>\n",
              "      <td>-1.122951</td>\n",
              "      <td>...</td>\n",
              "      <td>0</td>\n",
              "      <td>0</td>\n",
              "      <td>0</td>\n",
              "      <td>0</td>\n",
              "      <td>0</td>\n",
              "      <td>0</td>\n",
              "      <td>0</td>\n",
              "      <td>0</td>\n",
              "      <td>1</td>\n",
              "      <td>0</td>\n",
              "    </tr>\n",
              "    <tr>\n",
              "      <th>253487</th>\n",
              "      <td>-0.754361</td>\n",
              "      <td>0.033797</td>\n",
              "      <td>-0.646068</td>\n",
              "      <td>-0.217014</td>\n",
              "      <td>-0.149897</td>\n",
              "      <td>-0.264257</td>\n",
              "      <td>-0.353871</td>\n",
              "      <td>-0.596999</td>\n",
              "      <td>-0.943871</td>\n",
              "      <td>0.483060</td>\n",
              "      <td>...</td>\n",
              "      <td>0</td>\n",
              "      <td>0</td>\n",
              "      <td>0</td>\n",
              "      <td>0</td>\n",
              "      <td>0</td>\n",
              "      <td>0</td>\n",
              "      <td>0</td>\n",
              "      <td>0</td>\n",
              "      <td>1</td>\n",
              "      <td>0</td>\n",
              "    </tr>\n",
              "    <tr>\n",
              "      <th>308617</th>\n",
              "      <td>-0.933421</td>\n",
              "      <td>-0.407935</td>\n",
              "      <td>-0.877645</td>\n",
              "      <td>-0.831044</td>\n",
              "      <td>-0.398542</td>\n",
              "      <td>-0.654885</td>\n",
              "      <td>1.595658</td>\n",
              "      <td>-0.679332</td>\n",
              "      <td>-0.704900</td>\n",
              "      <td>-1.292005</td>\n",
              "      <td>...</td>\n",
              "      <td>0</td>\n",
              "      <td>0</td>\n",
              "      <td>0</td>\n",
              "      <td>0</td>\n",
              "      <td>0</td>\n",
              "      <td>0</td>\n",
              "      <td>0</td>\n",
              "      <td>0</td>\n",
              "      <td>1</td>\n",
              "      <td>0</td>\n",
              "    </tr>\n",
              "    <tr>\n",
              "      <th>288156</th>\n",
              "      <td>-1.040858</td>\n",
              "      <td>-1.265027</td>\n",
              "      <td>-1.039136</td>\n",
              "      <td>-0.392452</td>\n",
              "      <td>0.325561</td>\n",
              "      <td>-0.459571</td>\n",
              "      <td>-0.353871</td>\n",
              "      <td>-0.534992</td>\n",
              "      <td>-0.630736</td>\n",
              "      <td>-0.784844</td>\n",
              "      <td>...</td>\n",
              "      <td>0</td>\n",
              "      <td>0</td>\n",
              "      <td>0</td>\n",
              "      <td>0</td>\n",
              "      <td>1</td>\n",
              "      <td>0</td>\n",
              "      <td>0</td>\n",
              "      <td>0</td>\n",
              "      <td>1</td>\n",
              "      <td>0</td>\n",
              "    </tr>\n",
              "    <tr>\n",
              "      <th>190936</th>\n",
              "      <td>-0.993108</td>\n",
              "      <td>-1.372713</td>\n",
              "      <td>-0.994055</td>\n",
              "      <td>-0.430346</td>\n",
              "      <td>-0.833975</td>\n",
              "      <td>-0.850199</td>\n",
              "      <td>-0.353871</td>\n",
              "      <td>-0.006935</td>\n",
              "      <td>0.176823</td>\n",
              "      <td>-0.446736</td>\n",
              "      <td>...</td>\n",
              "      <td>0</td>\n",
              "      <td>0</td>\n",
              "      <td>0</td>\n",
              "      <td>0</td>\n",
              "      <td>0</td>\n",
              "      <td>0</td>\n",
              "      <td>0</td>\n",
              "      <td>0</td>\n",
              "      <td>1</td>\n",
              "      <td>0</td>\n",
              "    </tr>\n",
              "  </tbody>\n",
              "</table>\n",
              "<p>5 rows × 28 columns</p>\n",
              "</div>\n",
              "    <div class=\"colab-df-buttons\">\n",
              "\n",
              "  <div class=\"colab-df-container\">\n",
              "    <button class=\"colab-df-convert\" onclick=\"convertToInteractive('df-972b0277-35df-41fc-936a-3788bccc47d5')\"\n",
              "            title=\"Convert this dataframe to an interactive table.\"\n",
              "            style=\"display:none;\">\n",
              "\n",
              "  <svg xmlns=\"http://www.w3.org/2000/svg\" height=\"24px\" viewBox=\"0 -960 960 960\">\n",
              "    <path d=\"M120-120v-720h720v720H120Zm60-500h600v-160H180v160Zm220 220h160v-160H400v160Zm0 220h160v-160H400v160ZM180-400h160v-160H180v160Zm440 0h160v-160H620v160ZM180-180h160v-160H180v160Zm440 0h160v-160H620v160Z\"/>\n",
              "  </svg>\n",
              "    </button>\n",
              "\n",
              "  <style>\n",
              "    .colab-df-container {\n",
              "      display:flex;\n",
              "      gap: 12px;\n",
              "    }\n",
              "\n",
              "    .colab-df-convert {\n",
              "      background-color: #E8F0FE;\n",
              "      border: none;\n",
              "      border-radius: 50%;\n",
              "      cursor: pointer;\n",
              "      display: none;\n",
              "      fill: #1967D2;\n",
              "      height: 32px;\n",
              "      padding: 0 0 0 0;\n",
              "      width: 32px;\n",
              "    }\n",
              "\n",
              "    .colab-df-convert:hover {\n",
              "      background-color: #E2EBFA;\n",
              "      box-shadow: 0px 1px 2px rgba(60, 64, 67, 0.3), 0px 1px 3px 1px rgba(60, 64, 67, 0.15);\n",
              "      fill: #174EA6;\n",
              "    }\n",
              "\n",
              "    .colab-df-buttons div {\n",
              "      margin-bottom: 4px;\n",
              "    }\n",
              "\n",
              "    [theme=dark] .colab-df-convert {\n",
              "      background-color: #3B4455;\n",
              "      fill: #D2E3FC;\n",
              "    }\n",
              "\n",
              "    [theme=dark] .colab-df-convert:hover {\n",
              "      background-color: #434B5C;\n",
              "      box-shadow: 0px 1px 3px 1px rgba(0, 0, 0, 0.15);\n",
              "      filter: drop-shadow(0px 1px 2px rgba(0, 0, 0, 0.3));\n",
              "      fill: #FFFFFF;\n",
              "    }\n",
              "  </style>\n",
              "\n",
              "    <script>\n",
              "      const buttonEl =\n",
              "        document.querySelector('#df-972b0277-35df-41fc-936a-3788bccc47d5 button.colab-df-convert');\n",
              "      buttonEl.style.display =\n",
              "        google.colab.kernel.accessAllowed ? 'block' : 'none';\n",
              "\n",
              "      async function convertToInteractive(key) {\n",
              "        const element = document.querySelector('#df-972b0277-35df-41fc-936a-3788bccc47d5');\n",
              "        const dataTable =\n",
              "          await google.colab.kernel.invokeFunction('convertToInteractive',\n",
              "                                                    [key], {});\n",
              "        if (!dataTable) return;\n",
              "\n",
              "        const docLinkHtml = 'Like what you see? Visit the ' +\n",
              "          '<a target=\"_blank\" href=https://colab.research.google.com/notebooks/data_table.ipynb>data table notebook</a>'\n",
              "          + ' to learn more about interactive tables.';\n",
              "        element.innerHTML = '';\n",
              "        dataTable['output_type'] = 'display_data';\n",
              "        await google.colab.output.renderOutput(dataTable, element);\n",
              "        const docLink = document.createElement('div');\n",
              "        docLink.innerHTML = docLinkHtml;\n",
              "        element.appendChild(docLink);\n",
              "      }\n",
              "    </script>\n",
              "  </div>\n",
              "\n",
              "\n",
              "<div id=\"df-91dfe916-4060-478e-87ea-5d0f8ef70f08\">\n",
              "  <button class=\"colab-df-quickchart\" onclick=\"quickchart('df-91dfe916-4060-478e-87ea-5d0f8ef70f08')\"\n",
              "            title=\"Suggest charts\"\n",
              "            style=\"display:none;\">\n",
              "\n",
              "<svg xmlns=\"http://www.w3.org/2000/svg\" height=\"24px\"viewBox=\"0 0 24 24\"\n",
              "     width=\"24px\">\n",
              "    <g>\n",
              "        <path d=\"M19 3H5c-1.1 0-2 .9-2 2v14c0 1.1.9 2 2 2h14c1.1 0 2-.9 2-2V5c0-1.1-.9-2-2-2zM9 17H7v-7h2v7zm4 0h-2V7h2v10zm4 0h-2v-4h2v4z\"/>\n",
              "    </g>\n",
              "</svg>\n",
              "  </button>\n",
              "\n",
              "<style>\n",
              "  .colab-df-quickchart {\n",
              "      --bg-color: #E8F0FE;\n",
              "      --fill-color: #1967D2;\n",
              "      --hover-bg-color: #E2EBFA;\n",
              "      --hover-fill-color: #174EA6;\n",
              "      --disabled-fill-color: #AAA;\n",
              "      --disabled-bg-color: #DDD;\n",
              "  }\n",
              "\n",
              "  [theme=dark] .colab-df-quickchart {\n",
              "      --bg-color: #3B4455;\n",
              "      --fill-color: #D2E3FC;\n",
              "      --hover-bg-color: #434B5C;\n",
              "      --hover-fill-color: #FFFFFF;\n",
              "      --disabled-bg-color: #3B4455;\n",
              "      --disabled-fill-color: #666;\n",
              "  }\n",
              "\n",
              "  .colab-df-quickchart {\n",
              "    background-color: var(--bg-color);\n",
              "    border: none;\n",
              "    border-radius: 50%;\n",
              "    cursor: pointer;\n",
              "    display: none;\n",
              "    fill: var(--fill-color);\n",
              "    height: 32px;\n",
              "    padding: 0;\n",
              "    width: 32px;\n",
              "  }\n",
              "\n",
              "  .colab-df-quickchart:hover {\n",
              "    background-color: var(--hover-bg-color);\n",
              "    box-shadow: 0 1px 2px rgba(60, 64, 67, 0.3), 0 1px 3px 1px rgba(60, 64, 67, 0.15);\n",
              "    fill: var(--button-hover-fill-color);\n",
              "  }\n",
              "\n",
              "  .colab-df-quickchart-complete:disabled,\n",
              "  .colab-df-quickchart-complete:disabled:hover {\n",
              "    background-color: var(--disabled-bg-color);\n",
              "    fill: var(--disabled-fill-color);\n",
              "    box-shadow: none;\n",
              "  }\n",
              "\n",
              "  .colab-df-spinner {\n",
              "    border: 2px solid var(--fill-color);\n",
              "    border-color: transparent;\n",
              "    border-bottom-color: var(--fill-color);\n",
              "    animation:\n",
              "      spin 1s steps(1) infinite;\n",
              "  }\n",
              "\n",
              "  @keyframes spin {\n",
              "    0% {\n",
              "      border-color: transparent;\n",
              "      border-bottom-color: var(--fill-color);\n",
              "      border-left-color: var(--fill-color);\n",
              "    }\n",
              "    20% {\n",
              "      border-color: transparent;\n",
              "      border-left-color: var(--fill-color);\n",
              "      border-top-color: var(--fill-color);\n",
              "    }\n",
              "    30% {\n",
              "      border-color: transparent;\n",
              "      border-left-color: var(--fill-color);\n",
              "      border-top-color: var(--fill-color);\n",
              "      border-right-color: var(--fill-color);\n",
              "    }\n",
              "    40% {\n",
              "      border-color: transparent;\n",
              "      border-right-color: var(--fill-color);\n",
              "      border-top-color: var(--fill-color);\n",
              "    }\n",
              "    60% {\n",
              "      border-color: transparent;\n",
              "      border-right-color: var(--fill-color);\n",
              "    }\n",
              "    80% {\n",
              "      border-color: transparent;\n",
              "      border-right-color: var(--fill-color);\n",
              "      border-bottom-color: var(--fill-color);\n",
              "    }\n",
              "    90% {\n",
              "      border-color: transparent;\n",
              "      border-bottom-color: var(--fill-color);\n",
              "    }\n",
              "  }\n",
              "</style>\n",
              "\n",
              "  <script>\n",
              "    async function quickchart(key) {\n",
              "      const quickchartButtonEl =\n",
              "        document.querySelector('#' + key + ' button');\n",
              "      quickchartButtonEl.disabled = true;  // To prevent multiple clicks.\n",
              "      quickchartButtonEl.classList.add('colab-df-spinner');\n",
              "      try {\n",
              "        const charts = await google.colab.kernel.invokeFunction(\n",
              "            'suggestCharts', [key], {});\n",
              "      } catch (error) {\n",
              "        console.error('Error during call to suggestCharts:', error);\n",
              "      }\n",
              "      quickchartButtonEl.classList.remove('colab-df-spinner');\n",
              "      quickchartButtonEl.classList.add('colab-df-quickchart-complete');\n",
              "    }\n",
              "    (() => {\n",
              "      let quickchartButtonEl =\n",
              "        document.querySelector('#df-91dfe916-4060-478e-87ea-5d0f8ef70f08 button');\n",
              "      quickchartButtonEl.style.display =\n",
              "        google.colab.kernel.accessAllowed ? 'block' : 'none';\n",
              "    })();\n",
              "  </script>\n",
              "</div>\n",
              "    </div>\n",
              "  </div>\n"
            ],
            "application/vnd.google.colaboratory.intrinsic+json": {
              "type": "dataframe",
              "variable_name": "X_tr"
            }
          },
          "metadata": {},
          "execution_count": 37
        }
      ]
    },
    {
      "cell_type": "code",
      "source": [
        "y_tr"
      ],
      "metadata": {
        "colab": {
          "base_uri": "https://localhost:8080/"
        },
        "id": "Vor2O6W5gsa5",
        "outputId": "073f1742-3d34-4b94-ab6e-955bae374b6c"
      },
      "execution_count": null,
      "outputs": [
        {
          "output_type": "execute_result",
          "data": {
            "text/plain": [
              "array([1, 1, 0, ..., 0, 1, 1])"
            ]
          },
          "metadata": {},
          "execution_count": 38
        }
      ]
    },
    {
      "cell_type": "markdown",
      "source": [
        "# 5. 모델링"
      ],
      "metadata": {
        "id": "A8cvQH_OgwnD"
      }
    },
    {
      "cell_type": "markdown",
      "source": [
        "## 5-1. XGBoost"
      ],
      "metadata": {
        "id": "FbjSTcxDg11r"
      }
    },
    {
      "cell_type": "code",
      "source": [
        "from xgboost import XGBClassifier\n",
        "from sklearn.metrics import accuracy_score, confusion_matrix, recall_score\n",
        "\n",
        "modelXGB = XGBClassifier()\n",
        "modelXGB.fit(X_tr, y_tr)\n",
        "\n",
        "#예측 데이터 정의하기\n",
        "y_val_pred = modelXGB.predict(X_val)\n",
        "\n",
        "# 혼동 행렬 계산\n",
        "confusion = confusion_matrix(y_val, y_val_pred)\n",
        "print('Confusion Matrix:\\n', confusion)\n",
        "print('-'*50)\n",
        "\n",
        "#정확도 계산\n",
        "accuracy = accuracy_score(y_val, y_val_pred)\n",
        "print('Accuracy:', accuracy)\n",
        "\n",
        "# 재현율 계산\n",
        "recall = recall_score(y_val, y_val_pred, average='macro')\n",
        "print('Recall:', recall)"
      ],
      "metadata": {
        "colab": {
          "base_uri": "https://localhost:8080/"
        },
        "id": "XcXka2ZEg1a3",
        "outputId": "3abc9a8f-c61b-42b2-82e6-2409562a8077"
      },
      "execution_count": null,
      "outputs": [
        {
          "output_type": "stream",
          "name": "stdout",
          "text": [
            "Confusion Matrix:\n",
            " [[34554 22439]\n",
            " [14070 80919]]\n",
            "--------------------------------------------------\n",
            "Accuracy: 0.7597807635114685\n",
            "Recall: 0.7290812840959913\n"
          ]
        }
      ]
    },
    {
      "cell_type": "markdown",
      "source": [
        "## 5-2. Random Forest"
      ],
      "metadata": {
        "id": "pHYz7cULhReK"
      }
    },
    {
      "cell_type": "code",
      "source": [
        "from sklearn.ensemble import RandomForestClassifier\n",
        "from sklearn.metrics import accuracy_score, confusion_matrix, recall_score\n",
        "\n",
        "modelRF = RandomForestClassifier(random_state=123)\n",
        "modelRF.fit(X_tr, y_tr)\n",
        "\n",
        "y_val_pred = modelRF.predict(X_val)\n",
        "\n",
        "# 혼동 행렬 계산\n",
        "confusion = confusion_matrix(y_val, y_val_pred)\n",
        "print('Confusion Matrix:\\n', confusion)\n",
        "print('-'*50)\n",
        "\n",
        "#정확도 계산\n",
        "accuracy = accuracy_score(y_val, y_val_pred)\n",
        "print('Accuracy:', accuracy)\n",
        "\n",
        "# 재현율 계산\n",
        "recall = recall_score(y_val, y_val_pred, average='macro')\n",
        "print('Recall:', recall)"
      ],
      "metadata": {
        "colab": {
          "base_uri": "https://localhost:8080/"
        },
        "id": "vyok4ewFg7NL",
        "outputId": "762127a2-5437-4bc7-fd50-7d7f575d6c6c"
      },
      "execution_count": null,
      "outputs": [
        {
          "output_type": "stream",
          "name": "stdout",
          "text": [
            "Confusion Matrix:\n",
            " [[50706  6287]\n",
            " [ 7568 87421]]\n",
            "--------------------------------------------------\n",
            "Accuracy: 0.9088378886973457\n",
            "Recall: 0.9050079121028306\n"
          ]
        }
      ]
    },
    {
      "cell_type": "markdown",
      "source": [
        "## 5-3. Logistic Regressor"
      ],
      "metadata": {
        "id": "F4gvzy_GhdaY"
      }
    },
    {
      "cell_type": "code",
      "source": [
        "from sklearn.linear_model import LogisticRegression\n",
        "from sklearn.metrics import accuracy_score, confusion_matrix, recall_score\n",
        "\n",
        "model = LogisticRegression(random_state=123)\n",
        "model.fit(X_tr, y_tr)\n",
        "\n",
        "y_val_pred = model.predict(X_val)\n",
        "\n",
        "# 성능 평가\n",
        "# 혼동 행렬 계산\n",
        "confusion = confusion_matrix(y_val, y_val_pred)\n",
        "print('Confusion Matrix:\\n', confusion)\n",
        "print('-'*50)\n",
        "\n",
        "#정확도 계산\n",
        "accuracy = accuracy_score(y_val, y_val_pred)\n",
        "print('Accuracy:', accuracy)\n",
        "\n",
        "# 재현율 계산\n",
        "recall = recall_score(y_val, y_val_pred, average='macro')\n",
        "print('Recall:', recall)"
      ],
      "metadata": {
        "colab": {
          "base_uri": "https://localhost:8080/"
        },
        "id": "6SPMN4TXhghJ",
        "outputId": "8a6feac0-9d31-4df8-9f2b-0fbc07c971b3"
      },
      "execution_count": null,
      "outputs": [
        {
          "output_type": "stream",
          "name": "stderr",
          "text": [
            "/usr/local/lib/python3.10/dist-packages/sklearn/linear_model/_logistic.py:458: ConvergenceWarning: lbfgs failed to converge (status=1):\n",
            "STOP: TOTAL NO. of ITERATIONS REACHED LIMIT.\n",
            "\n",
            "Increase the number of iterations (max_iter) or scale the data as shown in:\n",
            "    https://scikit-learn.org/stable/modules/preprocessing.html\n",
            "Please also refer to the documentation for alternative solver options:\n",
            "    https://scikit-learn.org/stable/modules/linear_model.html#logistic-regression\n",
            "  n_iter_i = _check_optimize_result(\n"
          ]
        },
        {
          "output_type": "stream",
          "name": "stdout",
          "text": [
            "Confusion Matrix:\n",
            " [[31921 25072]\n",
            " [14016 80973]]\n",
            "--------------------------------------------------\n",
            "Accuracy: 0.7428116487478781\n",
            "Recall: 0.7062661995470577\n"
          ]
        }
      ]
    },
    {
      "cell_type": "markdown",
      "source": [
        "## 5-4. Naive Bayes"
      ],
      "metadata": {
        "id": "q5tkMUqmhhiI"
      }
    },
    {
      "cell_type": "code",
      "source": [
        "from sklearn.naive_bayes import BernoulliNB\n",
        "from sklearn.metrics import accuracy_score, confusion_matrix, recall_score\n",
        "\n",
        "# BernoulliNB 모델 생성\n",
        "model_BernoulliNB = BernoulliNB()\n",
        "\n",
        "# 학습 데이터에 모델 훈련\n",
        "model_BernoulliNB.fit(X_tr, y_tr)\n",
        "\n",
        "# 검증 데이터 예측\n",
        "y_val_pred = model_BernoulliNB.predict(X_val)\n",
        "\n",
        "# 혼동 행렬 계산\n",
        "confusion = confusion_matrix(y_val, y_val_pred)\n",
        "print('Confusion Matrix:\\n', confusion)\n",
        "print('-'*50)\n",
        "\n",
        "# 정확도 계산\n",
        "accuracy = accuracy_score(y_val, y_val_pred)\n",
        "print('Accuracy:', accuracy)\n",
        "\n",
        "# 재현율 계산\n",
        "recall = recall_score(y_val, y_val_pred, average='macro')\n",
        "print('Recall:', recall)"
      ],
      "metadata": {
        "colab": {
          "base_uri": "https://localhost:8080/"
        },
        "id": "k4Zwx1sjhhOF",
        "outputId": "ee056816-0832-487e-a931-918ea195a007"
      },
      "execution_count": null,
      "outputs": [
        {
          "output_type": "stream",
          "name": "stdout",
          "text": [
            "Confusion Matrix:\n",
            " [[32986 24007]\n",
            " [17102 77887]]\n",
            "--------------------------------------------------\n",
            "Accuracy: 0.7295140213972707\n",
            "Recall: 0.6993654660814472\n"
          ]
        }
      ]
    },
    {
      "cell_type": "markdown",
      "source": [
        "최종 결과\n",
        "* 해당 프로젝트에서는 체납자를 정확하게 분류하는 것이 중요하기 때문에 recall 값을 평가 기준으로 설정"
      ],
      "metadata": {
        "id": "oiV2TD1HilGz"
      }
    },
    {
      "cell_type": "markdown",
      "source": [
        "# 5. 요약도"
      ],
      "metadata": {
        "id": "zy7i1fdHkZmC"
      }
    },
    {
      "cell_type": "markdown",
      "source": [
        "![image.png](data:image/png;base64,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)"
      ],
      "metadata": {
        "id": "Yz8cXwRtka6W"
      }
    },
    {
      "cell_type": "markdown",
      "source": [
        "# 6. 비즈니스 전략"
      ],
      "metadata": {
        "id": "kNk8OFYyi_nb"
      }
    },
    {
      "cell_type": "markdown",
      "source": [
        "* 이자율 인하 전략\n",
        "---\n",
        "1, 8, 9 지역 대출자에게 최대 20,000달러 내에서 대출 이자율을 인하\n",
        "\n",
        "* 특별 심사 전략\n",
        "---\n",
        "연소득 40,000 달러 이하인 저소득자를 위해 별도의 대출 심사기준 마련\n",
        "\n",
        "* 보상 전략\n",
        "---\n",
        "정상적으로 상환하고 있거나 상환 이력 개선된 고객에 대한 추가 혜택이나 리워드 프로그램을 도입하여 상환 장려\n"
      ],
      "metadata": {
        "id": "ySsaIZ8jjFhl"
      }
    }
  ]
}
