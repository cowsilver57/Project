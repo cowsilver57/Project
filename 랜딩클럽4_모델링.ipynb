{
  "nbformat": 4,
  "nbformat_minor": 0,
  "metadata": {
    "colab": {
      "provenance": [],
      "authorship_tag": "ABX9TyOk+VgMY5Mma1cfT3IYUpwz",
      "include_colab_link": true
    },
    "kernelspec": {
      "name": "python3",
      "display_name": "Python 3"
    },
    "language_info": {
      "name": "python"
    }
  },
  "cells": [
    {
      "cell_type": "markdown",
      "metadata": {
        "id": "view-in-github",
        "colab_type": "text"
      },
      "source": [
        "<a href=\"https://colab.research.google.com/github/cowsilver57/Project/blob/main/%EB%9E%9C%EB%94%A9%ED%81%B4%EB%9F%BD4_%EB%AA%A8%EB%8D%B8%EB%A7%81.ipynb\" target=\"_parent\"><img src=\"https://colab.research.google.com/assets/colab-badge.svg\" alt=\"Open In Colab\"/></a>"
      ]
    },
    {
      "cell_type": "code",
      "execution_count": 28,
      "metadata": {
        "id": "cdOnF_pvXg1j"
      },
      "outputs": [],
      "source": [
        "import pandas as pd\n",
        "data = pd.read_csv('/content/preprocessed_data.csv')"
      ]
    },
    {
      "cell_type": "code",
      "source": [
        "data['term'] = data['term'].apply(lambda x: int(x.split()[0]) if pd.notnull(x) else x)"
      ],
      "metadata": {
        "id": "0DCecVt2h47b"
      },
      "execution_count": 29,
      "outputs": []
    },
    {
      "cell_type": "markdown",
      "source": [
        "# 3. 모델링 전 전처리"
      ],
      "metadata": {
        "id": "39Wbl9_hdKUJ"
      }
    },
    {
      "cell_type": "markdown",
      "source": [
        "## 3-1. 오버샘플링"
      ],
      "metadata": {
        "id": "utKE3aS-dNry"
      }
    },
    {
      "cell_type": "code",
      "source": [
        "from sklearn.model_selection import train_test_split\n",
        "from sklearn.utils import resample\n",
        "\n",
        "\n",
        "# 클래스 별로 샘플 수 계산\n",
        "\n",
        "#0 = 체납\n",
        "minority_class = data[data['loan_status'] == 0]\n",
        "#1 = 완납\n",
        "majority_class = data[data['loan_status'] == 1]\n",
        "\n",
        "print(\"Minority class samples:\", len(minority_class))\n",
        "print(\"Majority class samples:\", len(majority_class))\n",
        "\n",
        "# 적절한 비율로 오버샘플링 수행\n",
        "minority_class_oversampled = resample(minority_class,\n",
        "                                      replace=True,\n",
        "                                      n_samples=len(majority_class),\n",
        "                                      random_state=42)\n",
        "\n",
        "# 오버샘플링된 데이터를 기존 데이터와 합치기\n",
        "data_oversampled = pd.concat([majority_class, minority_class_oversampled])\n",
        "\n",
        "print(data_oversampled.shape)"
      ],
      "metadata": {
        "colab": {
          "base_uri": "https://localhost:8080/"
        },
        "id": "Hu3gZdTgdNAW",
        "outputId": "e6301b7b-038a-4e3d-d90a-73a2126ef506"
      },
      "execution_count": 30,
      "outputs": [
        {
          "output_type": "stream",
          "name": "stdout",
          "text": [
            "Minority class samples: 77352\n",
            "Majority class samples: 316629\n",
            "(633258, 29)\n"
          ]
        }
      ]
    },
    {
      "cell_type": "code",
      "source": [
        "#0 = 체납\n",
        "minority_class = data_oversampled[data_oversampled['loan_status'] == 0]\n",
        "#1 = 완납\n",
        "majority_class = data_oversampled[data_oversampled['loan_status'] == 1]\n",
        "\n",
        "print(\"Minority class samples:\", len(minority_class))\n",
        "print(\"Majority class samples:\", len(majority_class))"
      ],
      "metadata": {
        "colab": {
          "base_uri": "https://localhost:8080/"
        },
        "id": "Jzfhfd6idjlp",
        "outputId": "1f263dd1-4613-4fde-a15b-3fab087c3f15"
      },
      "execution_count": 31,
      "outputs": [
        {
          "output_type": "stream",
          "name": "stdout",
          "text": [
            "Minority class samples: 316629\n",
            "Majority class samples: 316629\n"
          ]
        }
      ]
    },
    {
      "cell_type": "code",
      "source": [
        "import matplotlib.pyplot as plt\n",
        "import seaborn as sns\n",
        "\n",
        "X1 = minority_class['revol_util'][:int(len(minority_class)*0.001)]\n",
        "X2 = minority_class['dti'][:int(len(minority_class)*0.001)]\n",
        "\n",
        "X3 = majority_class['revol_util'][:int(len(majority_class)*0.001)]\n",
        "X4 = majority_class['dti'][:int(len(majority_class)*0.001)]\n",
        "\n",
        "major2 = data_oversampled.loc[data_oversampled['loan_status']==0]\n",
        "minor2 = data_oversampled.loc[data_oversampled['loan_status']==1]\n",
        "\n",
        "XX1 = minor2['revol_util'][:int(len(minor2)*0.001)]\n",
        "XX2 = minor2['dti'][:int(len(minor2)*0.001)]\n",
        "\n",
        "XX3 = major2['revol_util'][:int(len(major2)*0.001)]\n",
        "XX4 = major2['dti'][:int(len(major2)*0.001)]\n",
        "\n",
        "# print(len(X1), len(X2), len(X3), len(X4))\n",
        "# print(len(XX1), len(XX2), len(XX3), len(XX4))\n",
        "\n",
        "fig, axes = plt.subplots(1, 2, figsize=(10, 5))\n",
        "axes[0].scatter(X1, X2, color='tab:blue', label='Charged Off') #체납\n",
        "axes[0].scatter(X3, X4, color='tab:orange', label='Fully Paid') #완납\n",
        "\n",
        "axes[1].scatter(XX1, XX2, color='tab:blue', label='Charged Off') #체납\n",
        "axes[1].scatter(XX3, XX4, color='tab:orange', label='Fully Paid') #완납\n",
        "\n",
        "axes[0].set_title('Before Resampling')\n",
        "axes[0].legend()\n",
        "axes[1].set_title('After Resampling')\n",
        "axes[1].legend()"
      ],
      "metadata": {
        "colab": {
          "base_uri": "https://localhost:8080/",
          "height": 445
        },
        "id": "AFq2h0d_dkq5",
        "outputId": "fd8c005a-b7d1-4281-ed36-7b169c4c87bd"
      },
      "execution_count": 32,
      "outputs": [
        {
          "output_type": "execute_result",
          "data": {
            "text/plain": [
              "<matplotlib.legend.Legend at 0x785d19d4b400>"
            ]
          },
          "metadata": {},
          "execution_count": 32
        },
        {
          "output_type": "display_data",
          "data": {
            "text/plain": [
              "<Figure size 1000x500 with 2 Axes>"
            ],
            "image/png": "[encoded data removed]"
          },
          "metadata": {}
        }
      ]
    },
    {
      "cell_type": "markdown",
      "source": [
        "## 3-2. 수치형 변수 스케일링"
      ],
      "metadata": {
        "id": "uhbrVzMDdu0U"
      }
    },
    {
      "cell_type": "markdown",
      "source": [
        "데이터 분리"
      ],
      "metadata": {
        "id": "IT7oFELlgg6q"
      }
    },
    {
      "cell_type": "code",
      "source": [
        "COL_NUM = ['loan_amnt', 'int_rate', 'installment', 'annual_inc', 'dti', 'open_acc', 'pub_rec', 'revol_bal', 'revol_util', 'total_acc', 'pub_rec_bankruptcies']\n",
        "COL_CAT = ['term', 'sub_grade', 'home_ownership', 'verification_status', 'address_0', 'address_1', 'address_2', 'address_3', 'address_4', 'address_5',\n",
        "           'address_6', 'address_7', 'address_8', 'address_9', 'app_type_DIRECT_PAY', 'app_type_INDIVIDUAL', 'app_type_JOINT']"
      ],
      "metadata": {
        "id": "c0srDRkUggjq"
      },
      "execution_count": 33,
      "outputs": []
    },
    {
      "cell_type": "code",
      "source": [
        "test = data_oversampled.drop('loan_status', axis=1)\n",
        "size = int(len(test) * 0.8)\n",
        "\n",
        "X_train = test.iloc[:size]\n",
        "X_test = test.iloc[size:]\n",
        "\n",
        "y_train = data_oversampled['loan_status'].iloc[:size]\n",
        "y_test = data_oversampled['loan_status'].iloc[size:]"
      ],
      "metadata": {
        "id": "e81_Uteids-T"
      },
      "execution_count": 34,
      "outputs": []
    },
    {
      "cell_type": "markdown",
      "source": [
        "수치형 변수 스케일링"
      ],
      "metadata": {
        "id": "1JdkC9Ulglva"
      }
    },
    {
      "cell_type": "code",
      "source": [
        "from sklearn.model_selection import train_test_split\n",
        "X_tr, X_val, y_tr, y_val = train_test_split(X_train[COL_NUM+COL_CAT],\n",
        "\t\t\t\t\t\t\t                         y_train.values.ravel(),\n",
        "\t\t\t\t\t\t\t\t                       test_size=0.3,\n",
        "\t\t\t\t\t\t\t                         stratify=y_train.values.ravel())"
      ],
      "metadata": {
        "id": "RHXNyQgegj3V"
      },
      "execution_count": 35,
      "outputs": []
    },
    {
      "cell_type": "code",
      "source": [
        "from sklearn.preprocessing import StandardScaler\n",
        "scaler = StandardScaler()\n",
        "scaler.fit(X_tr[COL_NUM])\n",
        "\n",
        "X_tr[COL_NUM] = scaler.transform(X_tr[COL_NUM])\n",
        "X_val[COL_NUM] = scaler.transform(X_val[COL_NUM])\n",
        "X_test[COL_NUM] = scaler.transform(X_test[COL_NUM])"
      ],
      "metadata": {
        "colab": {
          "base_uri": "https://localhost:8080/"
        },
        "id": "L6RXdzeIgouG",
        "outputId": "597e6c44-77c2-4abf-ef6a-a4b90899dd8c"
      },
      "execution_count": 36,
      "outputs": [
        {
          "output_type": "stream",
          "name": "stderr",
          "text": [
            "<ipython-input-36-894467aa0314>:7: SettingWithCopyWarning: \n",
            "A value is trying to be set on a copy of a slice from a DataFrame.\n",
            "Try using .loc[row_indexer,col_indexer] = value instead\n",
            "\n",
            "See the caveats in the documentation: https://pandas.pydata.org/pandas-docs/stable/user_guide/indexing.html#returning-a-view-versus-a-copy\n",
            "  X_test[COL_NUM] = scaler.transform(X_test[COL_NUM])\n"
          ]
        }
      ]
    },
    {
      "cell_type": "code",
      "source": [
        "X_tr.head()"
      ],
      "metadata": {
        "colab": {
          "base_uri": "https://localhost:8080/",
          "height": 255
        },
        "id": "48sd-ANKgqK3",
        "outputId": "b7ee6f7b-1a45-4c3b-cfd4-27fd430c300f"
      },
      "execution_count": 37,
      "outputs": [
        {
          "output_type": "execute_result",
          "data": {
            "text/plain": [
              "        loan_amnt  int_rate  installment  annual_inc       dti  open_acc  \\\n",
              "188867  -0.276866 -0.254098    -0.126411   -0.638064 -1.456194 -0.850199   \n",
              "253487  -0.754361  0.033797    -0.646068   -0.217014 -0.149897 -0.264257   \n",
              "308617  -0.933421 -0.407935    -0.877645   -0.831044 -0.398542 -0.654885   \n",
              "288156  -1.040858 -1.265027    -1.039136   -0.392452  0.325561 -0.459571   \n",
              "190936  -0.993108 -1.372713    -0.994055   -0.430346 -0.833975 -0.850199   \n",
              "\n",
              "         pub_rec  revol_bal  revol_util  total_acc  ...  address_3  address_4  \\\n",
              "188867 -0.353871  -0.853337   -1.191083  -1.122951  ...          0          0   \n",
              "253487 -0.353871  -0.596999   -0.943871   0.483060  ...          0          0   \n",
              "308617  1.595658  -0.679332   -0.704900  -1.292005  ...          0          0   \n",
              "288156 -0.353871  -0.534992   -0.630736  -0.784844  ...          0          0   \n",
              "190936 -0.353871  -0.006935    0.176823  -0.446736  ...          0          0   \n",
              "\n",
              "        address_5  address_6  address_7  address_8  address_9  \\\n",
              "188867          0          0          0          0          0   \n",
              "253487          0          0          0          0          0   \n",
              "308617          0          0          0          0          0   \n",
              "288156          0          0          1          0          0   \n",
              "190936          0          0          0          0          0   \n",
              "\n",
              "        app_type_DIRECT_PAY  app_type_INDIVIDUAL  app_type_JOINT  \n",
              "188867                    0                    1               0  \n",
              "253487                    0                    1               0  \n",
              "308617                    0                    1               0  \n",
              "288156                    0                    1               0  \n",
              "190936                    0                    1               0  \n",
              "\n",
              "[5 rows x 28 columns]"
            ],
            "text/html": [
              "\n",
              "  <div id=\"df-972b0277-35df-41fc-936a-3788bccc47d5\" class=\"colab-df-container\">\n",
              "    <div>\n",
              "<style scoped>\n",
              "    .dataframe tbody tr th:only-of-type {\n",
              "        vertical-align: middle;\n",
              "    }\n",
              "\n",
              "    .dataframe tbody tr th {\n",
              "        vertical-align: top;\n",
              "    }\n",
              "\n",
              "    .dataframe thead th {\n",
              "        text-align: right;\n",
              "    }\n",
              "</style>\n",
              "<table border=\"1\" class=\"dataframe\">\n",
              "  <thead>\n",
              "    <tr style=\"text-align: right;\">\n",
              "      <th></th>\n",
              "      <th>loan_amnt</th>\n",
              "      <th>int_rate</th>\n",
              "      <th>installment</th>\n",
              "      <th>annual_inc</th>\n",
              "      <th>dti</th>\n",
              "      <th>open_acc</th>\n",
              "      <th>pub_rec</th>\n",
              "      <th>revol_bal</th>\n",
              "      <th>revol_util</th>\n",
              "      <th>total_acc</th>\n",
              "      <th>...</th>\n",
              "      <th>address_3</th>\n",
              "      <th>address_4</th>\n",
              "      <th>address_5</th>\n",
              "      <th>address_6</th>\n",
              "      <th>address_7</th>\n",
              "      <th>address_8</th>\n",
              "      <th>address_9</th>\n",
              "      <th>app_type_DIRECT_PAY</th>\n",
              "      <th>app_type_INDIVIDUAL</th>\n",
              "      <th>app_type_JOINT</th>\n",
              "    </tr>\n",
              "  </thead>\n",
              "  <tbody>\n",
              "    <tr>\n",
              "      <th>188867</th>\n",
              "      <td>-0.276866</td>\n",
              "      <td>-0.254098</td>\n",
              "      <td>-0.126411</td>\n",
              "      <td>-0.638064</td>\n",
              "      <td>-1.456194</td>\n",
              "      <td>-0.850199</td>\n",
              "      <td>-0.353871</td>\n",
              "      <td>-0.853337</td>\n",
              "      <td>-1.191083</td>\n",
              "      <td>-1.122951</td>\n",
              "      <td>...</td>\n",
              "      <td>0</td>\n",
              "      <td>0</td>\n",
              "      <td>0</td>\n",
              "      <td>0</td>\n",
              "      <td>0</td>\n",
              "      <td>0</td>\n",
              "      <td>0</td>\n",
              "      <td>0</td>\n",
              "      <td>1</td>\n",
              "      <td>0</td>\n",
              "    </tr>\n",
              "    <tr>\n",
              "      <th>253487</th>\n",
              "      <td>-0.754361</td>\n",
              "      <td>0.033797</td>\n",
              "      <td>-0.646068</td>\n",
              "      <td>-0.217014</td>\n",
              "      <td>-0.149897</td>\n",
              "      <td>-0.264257</td>\n",
              "      <td>-0.353871</td>\n",
              "      <td>-0.596999</td>\n",
              "      <td>-0.943871</td>\n",
              "      <td>0.483060</td>\n",
              "      <td>...</td>\n",
              "      <td>0</td>\n",
              "      <td>0</td>\n",
              "      <td>0</td>\n",
              "      <td>0</td>\n",
              "      <td>0</td>\n",
              "      <td>0</td>\n",
              "      <td>0</td>\n",
              "      <td>0</td>\n",
              "      <td>1</td>\n",
              "      <td>0</td>\n",
              "    </tr>\n",
              "    <tr>\n",
              "      <th>308617</th>\n",
              "      <td>-0.933421</td>\n",
              "      <td>-0.407935</td>\n",
              "      <td>-0.877645</td>\n",
              "      <td>-0.831044</td>\n",
              "      <td>-0.398542</td>\n",
              "      <td>-0.654885</td>\n",
              "      <td>1.595658</td>\n",
              "      <td>-0.679332</td>\n",
              "      <td>-0.704900</td>\n",
              "      <td>-1.292005</td>\n",
              "      <td>...</td>\n",
              "      <td>0</td>\n",
              "      <td>0</td>\n",
              "      <td>0</td>\n",
              "      <td>0</td>\n",
              "      <td>0</td>\n",
              "      <td>0</td>\n",
              "      <td>0</td>\n",
              "      <td>0</td>\n",
              "      <td>1</td>\n",
              "      <td>0</td>\n",
              "    </tr>\n",
              "    <tr>\n",
              "      <th>288156</th>\n",
              "      <td>-1.040858</td>\n",
              "      <td>-1.265027</td>\n",
              "      <td>-1.039136</td>\n",
              "      <td>-0.392452</td>\n",
              "      <td>0.325561</td>\n",
              "      <td>-0.459571</td>\n",
              "      <td>-0.353871</td>\n",
              "      <td>-0.534992</td>\n",
              "      <td>-0.630736</td>\n",
              "      <td>-0.784844</td>\n",
              "      <td>...</td>\n",
              "      <td>0</td>\n",
              "      <td>0</td>\n",
              "      <td>0</td>\n",
              "      <td>0</td>\n",
              "      <td>1</td>\n",
              "      <td>0</td>\n",
              "      <td>0</td>\n",
              "      <td>0</td>\n",
              "      <td>1</td>\n",
              "      <td>0</td>\n",
              "    </tr>\n",
              "    <tr>\n",
              "      <th>190936</th>\n",
              "      <td>-0.993108</td>\n",
              "      <td>-1.372713</td>\n",
              "      <td>-0.994055</td>\n",
              "      <td>-0.430346</td>\n",
              "      <td>-0.833975</td>\n",
              "      <td>-0.850199</td>\n",
              "      <td>-0.353871</td>\n",
              "      <td>-0.006935</td>\n",
              "      <td>0.176823</td>\n",
              "      <td>-0.446736</td>\n",
              "      <td>...</td>\n",
              "      <td>0</td>\n",
              "      <td>0</td>\n",
              "      <td>0</td>\n",
              "      <td>0</td>\n",
              "      <td>0</td>\n",
              "      <td>0</td>\n",
              "      <td>0</td>\n",
              "      <td>0</td>\n",
              "      <td>1</td>\n",
              "      <td>0</td>\n",
              "    </tr>\n",
              "  </tbody>\n",
              "</table>\n",
              "<p>5 rows × 28 columns</p>\n",
              "</div>\n",
              "    <div class=\"colab-df-buttons\">\n",
              "\n",
              "  <div class=\"colab-df-container\">\n",
              "    <button class=\"colab-df-convert\" onclick=\"convertToInteractive('df-972b0277-35df-41fc-936a-3788bccc47d5')\"\n",
              "            title=\"Convert this dataframe to an interactive table.\"\n",
              "            style=\"display:none;\">\n",
              "\n",
              "  <svg xmlns=\"http://www.w3.org/2000/svg\" height=\"24px\" viewBox=\"0 -960 960 960\">\n",
              "    <path d=\"M120-120v-720h720v720H120Zm60-500h600v-160H180v160Zm220 220h160v-160H400v160Zm0 220h160v-160H400v160ZM180-400h160v-160H180v160Zm440 0h160v-160H620v160ZM180-180h160v-160H180v160Zm440 0h160v-160H620v160Z\"/>\n",
              "  </svg>\n",
              "    </button>\n",
              "\n",
              "  <style>\n",
              "    .colab-df-container {\n",
              "      display:flex;\n",
              "      gap: 12px;\n",
              "    }\n",
              "\n",
              "    .colab-df-convert {\n",
              "      background-color: #E8F0FE;\n",
              "      border: none;\n",
              "      border-radius: 50%;\n",
              "      cursor: pointer;\n",
              "      display: none;\n",
              "      fill: #1967D2;\n",
              "      height: 32px;\n",
              "      padding: 0 0 0 0;\n",
              "      width: 32px;\n",
              "    }\n",
              "\n",
              "    .colab-df-convert:hover {\n",
              "      background-color: #E2EBFA;\n",
              "      box-shadow: 0px 1px 2px rgba(60, 64, 67, 0.3), 0px 1px 3px 1px rgba(60, 64, 67, 0.15);\n",
              "      fill: #174EA6;\n",
              "    }\n",
              "\n",
              "    .colab-df-buttons div {\n",
              "      margin-bottom: 4px;\n",
              "    }\n",
              "\n",
              "    [theme=dark] .colab-df-convert {\n",
              "      background-color: #3B4455;\n",
              "      fill: #D2E3FC;\n",
              "    }\n",
              "\n",
              "    [theme=dark] .colab-df-convert:hover {\n",
              "      background-color: #434B5C;\n",
              "      box-shadow: 0px 1px 3px 1px rgba(0, 0, 0, 0.15);\n",
              "      filter: drop-shadow(0px 1px 2px rgba(0, 0, 0, 0.3));\n",
              "      fill: #FFFFFF;\n",
              "    }\n",
              "  </style>\n",
              "\n",
              "    <script>\n",
              "      const buttonEl =\n",
              "        document.querySelector('#df-972b0277-35df-41fc-936a-3788bccc47d5 button.colab-df-convert');\n",
              "      buttonEl.style.display =\n",
              "        google.colab.kernel.accessAllowed ? 'block' : 'none';\n",
              "\n",
              "      async function convertToInteractive(key) {\n",
              "        const element = document.querySelector('#df-972b0277-35df-41fc-936a-3788bccc47d5');\n",
              "        const dataTable =\n",
              "          await google.colab.kernel.invokeFunction('convertToInteractive',\n",
              "                                                    [key], {});\n",
              "        if (!dataTable) return;\n",
              "\n",
              "        const docLinkHtml = 'Like what you see? Visit the ' +\n",
              "          '<a target=\"_blank\" href=https://colab.research.google.com/notebooks/data_table.ipynb>data table notebook</a>'\n",
              "          + ' to learn more about interactive tables.';\n",
              "        element.innerHTML = '';\n",
              "        dataTable['output_type'] = 'display_data';\n",
              "        await google.colab.output.renderOutput(dataTable, element);\n",
              "        const docLink = document.createElement('div');\n",
              "        docLink.innerHTML = docLinkHtml;\n",
              "        element.appendChild(docLink);\n",
              "      }\n",
              "    </script>\n",
              "  </div>\n",
              "\n",
              "\n",
              "<div id=\"df-91dfe916-4060-478e-87ea-5d0f8ef70f08\">\n",
              "  <button class=\"colab-df-quickchart\" onclick=\"quickchart('df-91dfe916-4060-478e-87ea-5d0f8ef70f08')\"\n",
              "            title=\"Suggest charts\"\n",
              "            style=\"display:none;\">\n",
              "\n",
              "<svg xmlns=\"http://www.w3.org/2000/svg\" height=\"24px\"viewBox=\"0 0 24 24\"\n",
              "     width=\"24px\">\n",
              "    <g>\n",
              "        <path d=\"M19 3H5c-1.1 0-2 .9-2 2v14c0 1.1.9 2 2 2h14c1.1 0 2-.9 2-2V5c0-1.1-.9-2-2-2zM9 17H7v-7h2v7zm4 0h-2V7h2v10zm4 0h-2v-4h2v4z\"/>\n",
              "    </g>\n",
              "</svg>\n",
              "  </button>\n",
              "\n",
              "<style>\n",
              "  .colab-df-quickchart {\n",
              "      --bg-color: #E8F0FE;\n",
              "      --fill-color: #1967D2;\n",
              "      --hover-bg-color: #E2EBFA;\n",
              "      --hover-fill-color: #174EA6;\n",
              "      --disabled-fill-color: #AAA;\n",
              "      --disabled-bg-color: #DDD;\n",
              "  }\n",
              "\n",
              "  [theme=dark] .colab-df-quickchart {\n",
              "      --bg-color: #3B4455;\n",
              "      --fill-color: #D2E3FC;\n",
              "      --hover-bg-color: #434B5C;\n",
              "      --hover-fill-color: #FFFFFF;\n",
              "      --disabled-bg-color: #3B4455;\n",
              "      --disabled-fill-color: #666;\n",
              "  }\n",
              "\n",
              "  .colab-df-quickchart {\n",
              "    background-color: var(--bg-color);\n",
              "    border: none;\n",
              "    border-radius: 50%;\n",
              "    cursor: pointer;\n",
              "    display: none;\n",
              "    fill: var(--fill-color);\n",
              "    height: 32px;\n",
              "    padding: 0;\n",
              "    width: 32px;\n",
              "  }\n",
              "\n",
              "  .colab-df-quickchart:hover {\n",
              "    background-color: var(--hover-bg-color);\n",
              "    box-shadow: 0 1px 2px rgba(60, 64, 67, 0.3), 0 1px 3px 1px rgba(60, 64, 67, 0.15);\n",
              "    fill: var(--button-hover-fill-color);\n",
              "  }\n",
              "\n",
              "  .colab-df-quickchart-complete:disabled,\n",
              "  .colab-df-quickchart-complete:disabled:hover {\n",
              "    background-color: var(--disabled-bg-color);\n",
              "    fill: var(--disabled-fill-color);\n",
              "    box-shadow: none;\n",
              "  }\n",
              "\n",
              "  .colab-df-spinner {\n",
              "    border: 2px solid var(--fill-color);\n",
              "    border-color: transparent;\n",
              "    border-bottom-color: var(--fill-color);\n",
              "    animation:\n",
              "      spin 1s steps(1) infinite;\n",
              "  }\n",
              "\n",
              "  @keyframes spin {\n",
              "    0% {\n",
              "      border-color: transparent;\n",
              "      border-bottom-color: var(--fill-color);\n",
              "      border-left-color: var(--fill-color);\n",
              "    }\n",
              "    20% {\n",
              "      border-color: transparent;\n",
              "      border-left-color: var(--fill-color);\n",
              "      border-top-color: var(--fill-color);\n",
              "    }\n",
              "    30% {\n",
              "      border-color: transparent;\n",
              "      border-left-color: var(--fill-color);\n",
              "      border-top-color: var(--fill-color);\n",
              "      border-right-color: var(--fill-color);\n",
              "    }\n",
              "    40% {\n",
              "      border-color: transparent;\n",
              "      border-right-color: var(--fill-color);\n",
              "      border-top-color: var(--fill-color);\n",
              "    }\n",
              "    60% {\n",
              "      border-color: transparent;\n",
              "      border-right-color: var(--fill-color);\n",
              "    }\n",
              "    80% {\n",
              "      border-color: transparent;\n",
              "      border-right-color: var(--fill-color);\n",
              "      border-bottom-color: var(--fill-color);\n",
              "    }\n",
              "    90% {\n",
              "      border-color: transparent;\n",
              "      border-bottom-color: var(--fill-color);\n",
              "    }\n",
              "  }\n",
              "</style>\n",
              "\n",
              "  <script>\n",
              "    async function quickchart(key) {\n",
              "      const quickchartButtonEl =\n",
              "        document.querySelector('#' + key + ' button');\n",
              "      quickchartButtonEl.disabled = true;  // To prevent multiple clicks.\n",
              "      quickchartButtonEl.classList.add('colab-df-spinner');\n",
              "      try {\n",
              "        const charts = await google.colab.kernel.invokeFunction(\n",
              "            'suggestCharts', [key], {});\n",
              "      } catch (error) {\n",
              "        console.error('Error during call to suggestCharts:', error);\n",
              "      }\n",
              "      quickchartButtonEl.classList.remove('colab-df-spinner');\n",
              "      quickchartButtonEl.classList.add('colab-df-quickchart-complete');\n",
              "    }\n",
              "    (() => {\n",
              "      let quickchartButtonEl =\n",
              "        document.querySelector('#df-91dfe916-4060-478e-87ea-5d0f8ef70f08 button');\n",
              "      quickchartButtonEl.style.display =\n",
              "        google.colab.kernel.accessAllowed ? 'block' : 'none';\n",
              "    })();\n",
              "  </script>\n",
              "</div>\n",
              "    </div>\n",
              "  </div>\n"
            ],
            "application/vnd.google.colaboratory.intrinsic+json": {
              "type": "dataframe",
              "variable_name": "X_tr"
            }
          },
          "metadata": {},
          "execution_count": 37
        }
      ]
    },
    {
      "cell_type": "code",
      "source": [
        "y_tr"
      ],
      "metadata": {
        "colab": {
          "base_uri": "https://localhost:8080/"
        },
        "id": "Vor2O6W5gsa5",
        "outputId": "073f1742-3d34-4b94-ab6e-955bae374b6c"
      },
      "execution_count": 38,
      "outputs": [
        {
          "output_type": "execute_result",
          "data": {
            "text/plain": [
              "array([1, 1, 0, ..., 0, 1, 1])"
            ]
          },
          "metadata": {},
          "execution_count": 38
        }
      ]
    },
    {
      "cell_type": "markdown",
      "source": [
        "# 4. 모델링"
      ],
      "metadata": {
        "id": "A8cvQH_OgwnD"
      }
    },
    {
      "cell_type": "markdown",
      "source": [
        "## 4-1. XGBoost"
      ],
      "metadata": {
        "id": "FbjSTcxDg11r"
      }
    },
    {
      "cell_type": "code",
      "source": [
        "from xgboost import XGBClassifier\n",
        "from sklearn.metrics import accuracy_score, confusion_matrix, recall_score\n",
        "\n",
        "modelXGB = XGBClassifier()\n",
        "modelXGB.fit(X_tr, y_tr)\n",
        "\n",
        "#예측 데이터 정의하기\n",
        "y_val_pred = modelXGB.predict(X_val)\n",
        "\n",
        "# 혼동 행렬 계산\n",
        "confusion = confusion_matrix(y_val, y_val_pred)\n",
        "print('Confusion Matrix:\\n', confusion)\n",
        "print('-'*50)\n",
        "\n",
        "#정확도 계산\n",
        "accuracy = accuracy_score(y_val, y_val_pred)\n",
        "print('Accuracy:', accuracy)\n",
        "\n",
        "# 재현율 계산\n",
        "recall = recall_score(y_val, y_val_pred, average='macro')\n",
        "print('Recall:', recall)"
      ],
      "metadata": {
        "colab": {
          "base_uri": "https://localhost:8080/"
        },
        "id": "XcXka2ZEg1a3",
        "outputId": "3abc9a8f-c61b-42b2-82e6-2409562a8077"
      },
      "execution_count": 39,
      "outputs": [
        {
          "output_type": "stream",
          "name": "stdout",
          "text": [
            "Confusion Matrix:\n",
            " [[34554 22439]\n",
            " [14070 80919]]\n",
            "--------------------------------------------------\n",
            "Accuracy: 0.7597807635114685\n",
            "Recall: 0.7290812840959913\n"
          ]
        }
      ]
    },
    {
      "cell_type": "markdown",
      "source": [
        "## 4-2. Random Forest"
      ],
      "metadata": {
        "id": "pHYz7cULhReK"
      }
    },
    {
      "cell_type": "code",
      "source": [
        "from sklearn.ensemble import RandomForestClassifier\n",
        "from sklearn.metrics import accuracy_score, confusion_matrix, recall_score\n",
        "\n",
        "modelRF = RandomForestClassifier(random_state=123)\n",
        "modelRF.fit(X_tr, y_tr)\n",
        "\n",
        "y_val_pred = modelRF.predict(X_val)\n",
        "\n",
        "# 혼동 행렬 계산\n",
        "confusion = confusion_matrix(y_val, y_val_pred)\n",
        "print('Confusion Matrix:\\n', confusion)\n",
        "print('-'*50)\n",
        "\n",
        "#정확도 계산\n",
        "accuracy = accuracy_score(y_val, y_val_pred)\n",
        "print('Accuracy:', accuracy)\n",
        "\n",
        "# 재현율 계산\n",
        "recall = recall_score(y_val, y_val_pred, average='macro')\n",
        "print('Recall:', recall)"
      ],
      "metadata": {
        "colab": {
          "base_uri": "https://localhost:8080/"
        },
        "id": "vyok4ewFg7NL",
        "outputId": "762127a2-5437-4bc7-fd50-7d7f575d6c6c"
      },
      "execution_count": 40,
      "outputs": [
        {
          "output_type": "stream",
          "name": "stdout",
          "text": [
            "Confusion Matrix:\n",
            " [[50706  6287]\n",
            " [ 7568 87421]]\n",
            "--------------------------------------------------\n",
            "Accuracy: 0.9088378886973457\n",
            "Recall: 0.9050079121028306\n"
          ]
        }
      ]
    },
    {
      "cell_type": "markdown",
      "source": [
        "## 4-3. Logistic Regressor"
      ],
      "metadata": {
        "id": "F4gvzy_GhdaY"
      }
    },
    {
      "cell_type": "code",
      "source": [
        "from sklearn.linear_model import LogisticRegression\n",
        "from sklearn.metrics import accuracy_score, confusion_matrix, recall_score\n",
        "\n",
        "model = LogisticRegression(random_state=123)\n",
        "model.fit(X_tr, y_tr)\n",
        "\n",
        "y_val_pred = model.predict(X_val)\n",
        "\n",
        "# 성능 평가\n",
        "# 혼동 행렬 계산\n",
        "confusion = confusion_matrix(y_val, y_val_pred)\n",
        "print('Confusion Matrix:\\n', confusion)\n",
        "print('-'*50)\n",
        "\n",
        "#정확도 계산\n",
        "accuracy = accuracy_score(y_val, y_val_pred)\n",
        "print('Accuracy:', accuracy)\n",
        "\n",
        "# 재현율 계산\n",
        "recall = recall_score(y_val, y_val_pred, average='macro')\n",
        "print('Recall:', recall)"
      ],
      "metadata": {
        "colab": {
          "base_uri": "https://localhost:8080/"
        },
        "id": "6SPMN4TXhghJ",
        "outputId": "8a6feac0-9d31-4df8-9f2b-0fbc07c971b3"
      },
      "execution_count": 41,
      "outputs": [
        {
          "output_type": "stream",
          "name": "stderr",
          "text": [
            "/usr/local/lib/python3.10/dist-packages/sklearn/linear_model/_logistic.py:458: ConvergenceWarning: lbfgs failed to converge (status=1):\n",
            "STOP: TOTAL NO. of ITERATIONS REACHED LIMIT.\n",
            "\n",
            "Increase the number of iterations (max_iter) or scale the data as shown in:\n",
            "    https://scikit-learn.org/stable/modules/preprocessing.html\n",
            "Please also refer to the documentation for alternative solver options:\n",
            "    https://scikit-learn.org/stable/modules/linear_model.html#logistic-regression\n",
            "  n_iter_i = _check_optimize_result(\n"
          ]
        },
        {
          "output_type": "stream",
          "name": "stdout",
          "text": [
            "Confusion Matrix:\n",
            " [[31921 25072]\n",
            " [14016 80973]]\n",
            "--------------------------------------------------\n",
            "Accuracy: 0.7428116487478781\n",
            "Recall: 0.7062661995470577\n"
          ]
        }
      ]
    },
    {
      "cell_type": "markdown",
      "source": [
        "##4-4. Naive Bayes"
      ],
      "metadata": {
        "id": "q5tkMUqmhhiI"
      }
    },
    {
      "cell_type": "code",
      "source": [
        "from sklearn.naive_bayes import BernoulliNB\n",
        "from sklearn.metrics import accuracy_score, confusion_matrix, recall_score\n",
        "\n",
        "# BernoulliNB 모델 생성\n",
        "model_BernoulliNB = BernoulliNB()\n",
        "\n",
        "# 학습 데이터에 모델 훈련\n",
        "model_BernoulliNB.fit(X_tr, y_tr)\n",
        "\n",
        "# 검증 데이터 예측\n",
        "y_val_pred = model_BernoulliNB.predict(X_val)\n",
        "\n",
        "# 혼동 행렬 계산\n",
        "confusion = confusion_matrix(y_val, y_val_pred)\n",
        "print('Confusion Matrix:\\n', confusion)\n",
        "print('-'*50)\n",
        "\n",
        "# 정확도 계산\n",
        "accuracy = accuracy_score(y_val, y_val_pred)\n",
        "print('Accuracy:', accuracy)\n",
        "\n",
        "# 재현율 계산\n",
        "recall = recall_score(y_val, y_val_pred, average='macro')\n",
        "print('Recall:', recall)"
      ],
      "metadata": {
        "colab": {
          "base_uri": "https://localhost:8080/"
        },
        "id": "k4Zwx1sjhhOF",
        "outputId": "ee056816-0832-487e-a931-918ea195a007"
      },
      "execution_count": 42,
      "outputs": [
        {
          "output_type": "stream",
          "name": "stdout",
          "text": [
            "Confusion Matrix:\n",
            " [[32986 24007]\n",
            " [17102 77887]]\n",
            "--------------------------------------------------\n",
            "Accuracy: 0.7295140213972707\n",
            "Recall: 0.6993654660814472\n"
          ]
        }
      ]
    },
    {
      "cell_type": "markdown",
      "source": [
        "최종 결과\n",
        "* 해당 프로젝트에서는 체납자를 정확하게 분류하는 것이 중요하기 때문에 recall 값을 평가 기준으로 설정"
      ],
      "metadata": {
        "id": "oiV2TD1HilGz"
      }
    },
    {
      "cell_type": "markdown",
      "source": [
        "# 5. 비즈니스 전략"
      ],
      "metadata": {
        "id": "kNk8OFYyi_nb"
      }
    },
    {
      "cell_type": "markdown",
      "source": [
        "* 이자율 인하 전략\n",
        "---\n",
        "1, 8, 9 지역 대출자에게 최대 20,000달러 내에서 대출 이자율을 인하\n",
        "\n",
        "* 특별 심사 전략\n",
        "---\n",
        "연소득 40,000 달러 이하인 저소득자를 위해 별도의 대출 심사기준 마련\n",
        "\n",
        "* 보상 전략\n",
        "---\n",
        "정상적으로 상환하고 있거나 상환 이력 개선된 고객에 대한 추가 혜택이나 리워드 프로그램을 도입하여 상환 장려\n"
      ],
      "metadata": {
        "id": "ySsaIZ8jjFhl"
      }
    }
  ]
}